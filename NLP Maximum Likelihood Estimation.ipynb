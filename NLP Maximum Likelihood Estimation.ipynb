{
 "cells": [
  {
   "cell_type": "markdown",
   "id": "ee40cf96",
   "metadata": {},
   "source": [
    "# Maximum Likelihood Estimation (MLE)"
   ]
  },
  {
   "cell_type": "code",
   "execution_count": 8,
   "id": "1c4b8591",
   "metadata": {},
   "outputs": [],
   "source": [
    "# import the required module\n",
    "import nltk\n",
    "from nltk import word_tokenize, sent_tokenize\n",
    "from nltk.corpus import stopwords\n",
    "import string\n",
    "import math"
   ]
  },
  {
   "cell_type": "code",
   "execution_count": 9,
   "id": "75b26d59",
   "metadata": {},
   "outputs": [],
   "source": [
    "#data\n",
    "datas = [\"start SASTRA UNIVERSITY is a well known institution. end\",\"start SASTRA UNIVERSITY is located at Thanjavur. end\",\"start SASTRA UNIVERSITY is a category one institution. end\",\"start SASTRA management is focussing on quality education and placement. end\"]"
   ]
  },
  {
   "cell_type": "code",
   "execution_count": 10,
   "id": "c2333d35",
   "metadata": {},
   "outputs": [],
   "source": [
    "#Tokenization\n",
    "sent_tokens = []\n",
    "for data in datas:\n",
    "    sent_token = sent_tokenize(data)\n",
    "    sent_tokens.append(sent_token)\n",
    "word_tokens = []\n",
    "for sent_token in sent_tokens :\n",
    "    word_token = []\n",
    "    for sentence in sent_token:\n",
    "        sentence = sentence.translate(str.maketrans('', '', string.punctuation))\n",
    "        word_token += word_tokenize(sentence)\n",
    "    word_tokens.append(word_token)"
   ]
  },
  {
   "cell_type": "code",
   "execution_count": 11,
   "id": "c8313174",
   "metadata": {},
   "outputs": [],
   "source": [
    "#Stopwords removal    \n",
    "stops = set(stopwords.words('english'))\n",
    "word_token = []\n",
    "\n",
    "for w in word_tokens:\n",
    "    words = []\n",
    "    for word in w:\n",
    "        if word.lower() not in stops:\n",
    "            words.append(word)\n",
    "    word_token.append(words)"
   ]
  },
  {
   "cell_type": "code",
   "execution_count": 12,
   "id": "e70add01",
   "metadata": {},
   "outputs": [
    {
     "data": {
      "text/plain": [
       "[['start',\n",
       "  'SASTRA',\n",
       "  'UNIVERSITY',\n",
       "  'is',\n",
       "  'a',\n",
       "  'well',\n",
       "  'known',\n",
       "  'institution',\n",
       "  'end'],\n",
       " ['start', 'SASTRA', 'UNIVERSITY', 'is', 'located', 'at', 'Thanjavur', 'end'],\n",
       " ['start',\n",
       "  'SASTRA',\n",
       "  'UNIVERSITY',\n",
       "  'is',\n",
       "  'a',\n",
       "  'category',\n",
       "  'one',\n",
       "  'institution',\n",
       "  'end'],\n",
       " ['start',\n",
       "  'SASTRA',\n",
       "  'management',\n",
       "  'is',\n",
       "  'focussing',\n",
       "  'on',\n",
       "  'quality',\n",
       "  'education',\n",
       "  'and',\n",
       "  'placement',\n",
       "  'end']]"
      ]
     },
     "execution_count": 12,
     "metadata": {},
     "output_type": "execute_result"
    }
   ],
   "source": [
    "word_tokens"
   ]
  },
  {
   "cell_type": "code",
   "execution_count": 13,
   "id": "2e05e5ec",
   "metadata": {},
   "outputs": [
    {
     "name": "stdout",
     "output_type": "stream",
     "text": [
      "{'start': 4, 'SASTRA': 4, 'UNIVERSITY': 3, 'is': 4, 'a': 2, 'well': 1, 'known': 1, 'institution': 2, 'end': 4, 'located': 1, 'at': 1, 'Thanjavur': 1, 'category': 1, 'one': 1, 'management': 1, 'focussing': 1, 'on': 1, 'quality': 1, 'education': 1, 'and': 1, 'placement': 1}\n"
     ]
    }
   ],
   "source": [
    "# caculating few required numeric datas frequency and prob\n",
    "c = 0\n",
    "unique_words = []\n",
    "frequency = {}\n",
    "for words in word_tokens:\n",
    "    for word in words:\n",
    "        c+=1\n",
    "        if word not in frequency:\n",
    "            unique_words.append(word)\n",
    "            frequency[word]=1\n",
    "        else:\n",
    "            frequency[word]+=1\n",
    "\n",
    "print(frequency)"
   ]
  },
  {
   "cell_type": "code",
   "execution_count": 15,
   "id": "6990e7bd",
   "metadata": {},
   "outputs": [
    {
     "name": "stdout",
     "output_type": "stream",
     "text": [
      "{('start', 'SASTRA'): 4, ('SASTRA', 'UNIVERSITY'): 3, ('UNIVERSITY', 'is'): 3, ('is', 'a'): 2, ('a', 'well'): 1, ('well', 'known'): 1, ('known', 'institution'): 1, ('institution', 'end'): 2, ('is', 'located'): 1, ('located', 'at'): 1, ('at', 'Thanjavur'): 1, ('Thanjavur', 'end'): 1, ('a', 'category'): 1, ('category', 'one'): 1, ('one', 'institution'): 1, ('SASTRA', 'management'): 1, ('management', 'is'): 1, ('is', 'focussing'): 1, ('focussing', 'on'): 1, ('on', 'quality'): 1, ('quality', 'education'): 1, ('education', 'and'): 1, ('and', 'placement'): 1, ('placement', 'end'): 1}\n",
      "TOTAL UNIQUE BIGRAMS : 24\n"
     ]
    }
   ],
   "source": [
    "#generating bigrams\n",
    "bigramss = []\n",
    "for words in word_tokens:\n",
    "    bigrams = zip(words[:-1],words[1:])\n",
    "    bigramss.append(bigrams)\n",
    "\n",
    "# Caluculating frequency and prob of bigrams\n",
    "bigram_freq = {}\n",
    "bigram_count = 0\n",
    "for bigrams in bigramss :\n",
    "    for bigram in bigrams:\n",
    "        bigram_count += 1\n",
    "        if bigram in bigram_freq :\n",
    "            bigram_freq[bigram] += 1\n",
    "        else :\n",
    "            bigram_freq[bigram] = 1\n",
    "bigram_prop = {}\n",
    "for bigram, freq in bigram_freq.items() : \n",
    "    bigram_prop[bigram] = freq/bigram_count\n",
    "print(bigram_freq)\n",
    "print(\"TOTAL UNIQUE BIGRAMS :\", len(bigram_freq))"
   ]
  },
  {
   "cell_type": "markdown",
   "id": "ff3081ed",
   "metadata": {},
   "source": [
    "_______\n",
    "### MLE\n",
    "✓Choose the parameter values which gives the highest probability on the training corpus\n",
    "\n",
    "P_mle(Wn|W1...Wn-1) = C(W1,..,Wn) / C(W1,..,Wn-1)\n"
   ]
  },
  {
   "cell_type": "code",
   "execution_count": 16,
   "id": "0c7cb1c3",
   "metadata": {
    "scrolled": true
   },
   "outputs": [
    {
     "name": "stdout",
     "output_type": "stream",
     "text": [
      "The parameter values which gives the highest probability on the training corpus: ('start', 'SASTRA') 0.12121212121212122\n"
     ]
    }
   ],
   "source": [
    "# highest probability\n",
    "high_cat, high_val = 0,0\n",
    "for cat,val in bigram_prop.items():\n",
    "    if high_val<val:\n",
    "        high_cat = cat\n",
    "        high_val = val\n",
    "\n",
    "print(\"The parameter values which gives the highest probability on the training corpus:\",high_cat,high_val)"
   ]
  },
  {
   "cell_type": "code",
   "execution_count": 17,
   "id": "806b876f",
   "metadata": {},
   "outputs": [
    {
     "name": "stdout",
     "output_type": "stream",
     "text": [
      "Maximum Likelihood Estimation, Pmle =  1.0\n"
     ]
    }
   ],
   "source": [
    "# Here Bi-gram\n",
    "# P_mle = C(W1,W2) / C(W1) .: W1,W2 has highest frequency\n",
    "\n",
    "# C(W1)\n",
    "C_w1 = frequency[high_cat[0]]\n",
    "\n",
    "# C(W1,W2)\n",
    "C_w1_w2 = bigram_freq[high_cat]\n",
    "\n",
    "# P_mle\n",
    "P_mle = C_w1_w2/C_w1\n",
    "\n",
    "print(\"Maximum Likelihood Estimation, Pmle = \",P_mle)"
   ]
  },
  {
   "cell_type": "markdown",
   "id": "bcd7b560",
   "metadata": {},
   "source": [
    "#### P(sequence of events)"
   ]
  },
  {
   "cell_type": "code",
   "execution_count": 19,
   "id": "7190a125",
   "metadata": {},
   "outputs": [
    {
     "name": "stdout",
     "output_type": "stream",
     "text": [
      "P_MLE:\n",
      " {('start', 'SASTRA'): 1.0, ('SASTRA', 'UNIVERSITY'): 0.75, ('UNIVERSITY', 'is'): 1.0, ('is', 'a'): 0.5, ('a', 'well'): 0.5, ('well', 'known'): 1.0, ('known', 'institution'): 1.0, ('institution', 'end'): 1.0, ('is', 'located'): 0.25, ('located', 'at'): 1.0, ('at', 'Thanjavur'): 1.0, ('Thanjavur', 'end'): 1.0, ('a', 'category'): 0.5, ('category', 'one'): 1.0, ('one', 'institution'): 1.0, ('SASTRA', 'management'): 0.25, ('management', 'is'): 1.0, ('is', 'focussing'): 0.25, ('focussing', 'on'): 1.0, ('on', 'quality'): 1.0, ('quality', 'education'): 1.0, ('education', 'and'): 1.0, ('and', 'placement'): 1.0, ('placement', 'end'): 1.0}\n"
     ]
    }
   ],
   "source": [
    "# MLE for all events\n",
    "P_MLE = {}\n",
    "for bigram, freq in bigram_freq.items() : \n",
    "    P_MLE[bigram] =  freq/frequency[bigram[0]]\n",
    "print(\"P_MLE:\\n\",P_MLE)"
   ]
  },
  {
   "cell_type": "code",
   "execution_count": 22,
   "id": "b233a467",
   "metadata": {},
   "outputs": [
    {
     "name": "stdout",
     "output_type": "stream",
     "text": [
      "Probability of query: (P_MLE):  0.1875\n"
     ]
    }
   ],
   "source": [
    "# Query : SASTRA UNIVERSITY is a known institution\n",
    "query = \"start SASTRA UNIVERSITY is a well known institution end\"\n",
    "q_word_tokens =word_tokenize(query)\n",
    "q_bigrams = zip(q_word_tokens[:-1],q_word_tokens[1:])\n",
    "p_mle_q = 1\n",
    "for q_bigram in q_bigrams:\n",
    "    p_mle_q *= P_MLE[q_bigram]\n",
    "print(\"Probability of query: (P_MLE): \", p_mle_q)"
   ]
  }
 ],
 "metadata": {
  "kernelspec": {
   "display_name": "Python 3",
   "language": "python",
   "name": "python3"
  },
  "language_info": {
   "codemirror_mode": {
    "name": "ipython",
    "version": 3
   },
   "file_extension": ".py",
   "mimetype": "text/x-python",
   "name": "python",
   "nbconvert_exporter": "python",
   "pygments_lexer": "ipython3",
   "version": "3.8.8"
  }
 },
 "nbformat": 4,
 "nbformat_minor": 5
}
