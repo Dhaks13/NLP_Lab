{
 "cells": [
  {
   "cell_type": "markdown",
   "id": "bb95d91f",
   "metadata": {},
   "source": [
    "# Ex -1 \n",
    "Perform the following task using NLTK: Tokenize and tag some text, identify named entities,\n",
    "display a parse tree, and find the ambiguity of the sentence using parse tree."
   ]
  },
  {
   "cell_type": "markdown",
   "id": "97a6df93",
   "metadata": {},
   "source": [
    "# Tokenize the sentence using PunktSentenceTokenizer"
   ]
  },
  {
   "cell_type": "code",
   "execution_count": 1,
   "id": "7563ef1f",
   "metadata": {},
   "outputs": [],
   "source": [
    "#Importing the required modules\n",
    "import nltk\n",
    "from nltk.tokenize import PunktSentenceTokenizer\n",
    "from nltk.corpus import webtext"
   ]
  },
  {
   "cell_type": "code",
   "execution_count": 2,
   "id": "d1bd3ba8",
   "metadata": {
    "scrolled": false
   },
   "outputs": [],
   "source": [
    "#Create a String variable to tokenize\n",
    "raw_text = \"\"\"Hi! How are you?\n",
    "This is my first nlp lab\n",
    "\"\"\""
   ]
  },
  {
   "cell_type": "code",
   "execution_count": 3,
   "id": "5d3ccde1",
   "metadata": {},
   "outputs": [],
   "source": [
    "#Tokenizing the raw text\n",
    "tokens = PunktSentenceTokenizer(raw_text)\n",
    "tokens = tokens.tokenize(raw_text)"
   ]
  },
  {
   "cell_type": "code",
   "execution_count": 4,
   "id": "b6dbfdf1",
   "metadata": {},
   "outputs": [
    {
     "data": {
      "text/plain": [
       "['Hi!', 'How are you?', 'This is my first nlp lab']"
      ]
     },
     "execution_count": 4,
     "metadata": {},
     "output_type": "execute_result"
    }
   ],
   "source": [
    "#Printing the Tokens\n",
    "tokens"
   ]
  },
  {
   "cell_type": "markdown",
   "id": "da7daa72",
   "metadata": {},
   "source": [
    "# Removing Stopwords form the text"
   ]
  },
  {
   "cell_type": "code",
   "execution_count": 5,
   "id": "a361bd52",
   "metadata": {},
   "outputs": [],
   "source": [
    "#import required modules\n",
    "from nltk.corpus import stopwords\n",
    "from nltk.tokenize import WordPunctTokenizer"
   ]
  },
  {
   "cell_type": "code",
   "execution_count": 6,
   "id": "1670d994",
   "metadata": {},
   "outputs": [
    {
     "data": {
      "text/plain": [
       "{'a',\n",
       " 'about',\n",
       " 'above',\n",
       " 'after',\n",
       " 'again',\n",
       " 'against',\n",
       " 'ain',\n",
       " 'all',\n",
       " 'am',\n",
       " 'an',\n",
       " 'and',\n",
       " 'any',\n",
       " 'are',\n",
       " 'aren',\n",
       " \"aren't\",\n",
       " 'as',\n",
       " 'at',\n",
       " 'be',\n",
       " 'because',\n",
       " 'been',\n",
       " 'before',\n",
       " 'being',\n",
       " 'below',\n",
       " 'between',\n",
       " 'both',\n",
       " 'but',\n",
       " 'by',\n",
       " 'can',\n",
       " 'couldn',\n",
       " \"couldn't\",\n",
       " 'd',\n",
       " 'did',\n",
       " 'didn',\n",
       " \"didn't\",\n",
       " 'do',\n",
       " 'does',\n",
       " 'doesn',\n",
       " \"doesn't\",\n",
       " 'doing',\n",
       " 'don',\n",
       " \"don't\",\n",
       " 'down',\n",
       " 'during',\n",
       " 'each',\n",
       " 'few',\n",
       " 'for',\n",
       " 'from',\n",
       " 'further',\n",
       " 'had',\n",
       " 'hadn',\n",
       " \"hadn't\",\n",
       " 'has',\n",
       " 'hasn',\n",
       " \"hasn't\",\n",
       " 'have',\n",
       " 'haven',\n",
       " \"haven't\",\n",
       " 'having',\n",
       " 'he',\n",
       " 'her',\n",
       " 'here',\n",
       " 'hers',\n",
       " 'herself',\n",
       " 'him',\n",
       " 'himself',\n",
       " 'his',\n",
       " 'how',\n",
       " 'i',\n",
       " 'if',\n",
       " 'in',\n",
       " 'into',\n",
       " 'is',\n",
       " 'isn',\n",
       " \"isn't\",\n",
       " 'it',\n",
       " \"it's\",\n",
       " 'its',\n",
       " 'itself',\n",
       " 'just',\n",
       " 'll',\n",
       " 'm',\n",
       " 'ma',\n",
       " 'me',\n",
       " 'mightn',\n",
       " \"mightn't\",\n",
       " 'more',\n",
       " 'most',\n",
       " 'mustn',\n",
       " \"mustn't\",\n",
       " 'my',\n",
       " 'myself',\n",
       " 'needn',\n",
       " \"needn't\",\n",
       " 'no',\n",
       " 'nor',\n",
       " 'not',\n",
       " 'now',\n",
       " 'o',\n",
       " 'of',\n",
       " 'off',\n",
       " 'on',\n",
       " 'once',\n",
       " 'only',\n",
       " 'or',\n",
       " 'other',\n",
       " 'our',\n",
       " 'ours',\n",
       " 'ourselves',\n",
       " 'out',\n",
       " 'over',\n",
       " 'own',\n",
       " 're',\n",
       " 's',\n",
       " 'same',\n",
       " 'shan',\n",
       " \"shan't\",\n",
       " 'she',\n",
       " \"she's\",\n",
       " 'should',\n",
       " \"should've\",\n",
       " 'shouldn',\n",
       " \"shouldn't\",\n",
       " 'so',\n",
       " 'some',\n",
       " 'such',\n",
       " 't',\n",
       " 'than',\n",
       " 'that',\n",
       " \"that'll\",\n",
       " 'the',\n",
       " 'their',\n",
       " 'theirs',\n",
       " 'them',\n",
       " 'themselves',\n",
       " 'then',\n",
       " 'there',\n",
       " 'these',\n",
       " 'they',\n",
       " 'this',\n",
       " 'those',\n",
       " 'through',\n",
       " 'to',\n",
       " 'too',\n",
       " 'under',\n",
       " 'until',\n",
       " 'up',\n",
       " 've',\n",
       " 'very',\n",
       " 'was',\n",
       " 'wasn',\n",
       " \"wasn't\",\n",
       " 'we',\n",
       " 'were',\n",
       " 'weren',\n",
       " \"weren't\",\n",
       " 'what',\n",
       " 'when',\n",
       " 'where',\n",
       " 'which',\n",
       " 'while',\n",
       " 'who',\n",
       " 'whom',\n",
       " 'why',\n",
       " 'will',\n",
       " 'with',\n",
       " 'won',\n",
       " \"won't\",\n",
       " 'wouldn',\n",
       " \"wouldn't\",\n",
       " 'y',\n",
       " 'you',\n",
       " \"you'd\",\n",
       " \"you'll\",\n",
       " \"you're\",\n",
       " \"you've\",\n",
       " 'your',\n",
       " 'yours',\n",
       " 'yourself',\n",
       " 'yourselves'}"
      ]
     },
     "execution_count": 6,
     "metadata": {},
     "output_type": "execute_result"
    }
   ],
   "source": [
    "#Extracting the English stopwords form the nltk corpus\n",
    "en_stopwords = set(stopwords.words('english'))\n",
    "en_stopwords"
   ]
  },
  {
   "cell_type": "code",
   "execution_count": 7,
   "id": "d5b9de34",
   "metadata": {},
   "outputs": [
    {
     "data": {
      "text/plain": [
       "['Hi',\n",
       " '!',\n",
       " 'How',\n",
       " 'are',\n",
       " 'you',\n",
       " '?',\n",
       " 'This',\n",
       " 'is',\n",
       " 'my',\n",
       " 'first',\n",
       " 'nlp',\n",
       " 'lab']"
      ]
     },
     "execution_count": 7,
     "metadata": {},
     "output_type": "execute_result"
    }
   ],
   "source": [
    "#Tokenizing the raw text to words using WordPunctTokenizer\n",
    "tokenizer = WordPunctTokenizer()\n",
    "words = tokenizer.tokenize(raw_text)\n",
    "words"
   ]
  },
  {
   "cell_type": "code",
   "execution_count": 8,
   "id": "c526bcf2",
   "metadata": {},
   "outputs": [
    {
     "data": {
      "text/plain": [
       "['Hi', '!', 'How', '?', 'This', 'first', 'nlp', 'lab']"
      ]
     },
     "execution_count": 8,
     "metadata": {},
     "output_type": "execute_result"
    }
   ],
   "source": [
    "#Removing the stopwords from the \n",
    "[word for word in words if word not in en_stopwords]"
   ]
  },
  {
   "cell_type": "markdown",
   "id": "e3d85d8e",
   "metadata": {},
   "source": [
    "# Using WordNet"
   ]
  },
  {
   "cell_type": "code",
   "execution_count": 9,
   "id": "b8aba620",
   "metadata": {},
   "outputs": [],
   "source": [
    "#Importing the required module\n",
    "from nltk.corpus import wordnet as wn"
   ]
  },
  {
   "cell_type": "code",
   "execution_count": 10,
   "id": "44c8eb79",
   "metadata": {},
   "outputs": [
    {
     "data": {
      "text/plain": [
       "'dog.n.01'"
      ]
     },
     "execution_count": 10,
     "metadata": {},
     "output_type": "execute_result"
    }
   ],
   "source": [
    "#Creating Synset instances\n",
    "syn = wn.synsets('dog')[0]\n",
    "syn.name()"
   ]
  },
  {
   "cell_type": "code",
   "execution_count": 11,
   "id": "a685d511",
   "metadata": {},
   "outputs": [
    {
     "data": {
      "text/plain": [
       "'a member of the genus Canis (probably descended from the common wolf) that has been domesticated by man since prehistoric times; occurs in many breeds'"
      ]
     },
     "execution_count": 11,
     "metadata": {},
     "output_type": "execute_result"
    }
   ],
   "source": [
    "#define the word\n",
    "syn.definition()"
   ]
  },
  {
   "cell_type": "code",
   "execution_count": 12,
   "id": "b0a6badb",
   "metadata": {},
   "outputs": [
    {
     "data": {
      "text/plain": [
       "['the dog barked all night']"
      ]
     },
     "execution_count": 12,
     "metadata": {},
     "output_type": "execute_result"
    }
   ],
   "source": [
    "#Example sentance for the word\n",
    "syn.examples()"
   ]
  },
  {
   "cell_type": "code",
   "execution_count": 13,
   "id": "afe39747",
   "metadata": {},
   "outputs": [
    {
     "data": {
      "text/plain": [
       "[Synset('canine.n.02'), Synset('domestic_animal.n.01')]"
      ]
     },
     "execution_count": 13,
     "metadata": {},
     "output_type": "execute_result"
    }
   ],
   "source": [
    "#Getting Synonyms for words\n",
    "syn.hypernyms()"
   ]
  },
  {
   "cell_type": "code",
   "execution_count": 14,
   "id": "ce7aad9f",
   "metadata": {},
   "outputs": [
    {
     "data": {
      "text/plain": [
       "[Synset('bitch.n.04'),\n",
       " Synset('dog.n.01'),\n",
       " Synset('fox.n.01'),\n",
       " Synset('hyena.n.01'),\n",
       " Synset('jackal.n.01'),\n",
       " Synset('wild_dog.n.01'),\n",
       " Synset('wolf.n.01')]"
      ]
     },
     "execution_count": 14,
     "metadata": {},
     "output_type": "execute_result"
    }
   ],
   "source": [
    "#Syn of Syn\n",
    "syn.hypernyms()[0].hyponyms()"
   ]
  },
  {
   "cell_type": "code",
   "execution_count": 15,
   "id": "901e2319",
   "metadata": {},
   "outputs": [
    {
     "data": {
      "text/plain": [
       "[Synset('dog.n.01'),\n",
       " Synset('domestic_cat.n.01'),\n",
       " Synset('feeder.n.01'),\n",
       " Synset('head.n.02'),\n",
       " Synset('stocker.n.01'),\n",
       " Synset('stray.n.01')]"
      ]
     },
     "execution_count": 15,
     "metadata": {},
     "output_type": "execute_result"
    }
   ],
   "source": [
    "syn.hypernyms()[1].hyponyms()"
   ]
  },
  {
   "cell_type": "code",
   "execution_count": 16,
   "id": "32db36d3",
   "metadata": {},
   "outputs": [
    {
     "data": {
      "text/plain": [
       "[Synset('entity.n.01')]"
      ]
     },
     "execution_count": 16,
     "metadata": {},
     "output_type": "execute_result"
    }
   ],
   "source": [
    "# Root word of the syn\n",
    "syn.root_hypernyms()"
   ]
  },
  {
   "cell_type": "code",
   "execution_count": 17,
   "id": "b661964f",
   "metadata": {},
   "outputs": [
    {
     "data": {
      "text/plain": [
       "3"
      ]
     },
     "execution_count": 17,
     "metadata": {},
     "output_type": "execute_result"
    }
   ],
   "source": [
    "#finding lemmas\n",
    "lemmas = syn.lemmas()\n",
    "len(lemmas)"
   ]
  },
  {
   "cell_type": "code",
   "execution_count": 18,
   "id": "4e81ae8a",
   "metadata": {},
   "outputs": [
    {
     "name": "stdout",
     "output_type": "stream",
     "text": [
      "dog\n",
      "domestic_dog\n",
      "Canis_familiaris\n"
     ]
    }
   ],
   "source": [
    "print(lemmas[0].name())\n",
    "print(lemmas[1].name())\n",
    "print(lemmas[2].name())"
   ]
  },
  {
   "cell_type": "code",
   "execution_count": 19,
   "id": "f5d6a148",
   "metadata": {},
   "outputs": [
    {
     "data": {
      "text/plain": [
       "'good'"
      ]
     },
     "execution_count": 19,
     "metadata": {},
     "output_type": "execute_result"
    }
   ],
   "source": [
    "#Finding Antonym for a word\n",
    "syn = wn.synset('bad.n.01')\n",
    "antonym1 = syn.lemmas()[0].antonyms()[0]\n",
    "antonym1.name()"
   ]
  },
  {
   "cell_type": "code",
   "execution_count": 20,
   "id": "1fdc91ca",
   "metadata": {},
   "outputs": [
    {
     "data": {
      "text/plain": [
       "'that which is pleasing or valuable or useful'"
      ]
     },
     "execution_count": 20,
     "metadata": {},
     "output_type": "execute_result"
    }
   ],
   "source": [
    "#Define the antonym\n",
    "antonym1.synset().definition()"
   ]
  },
  {
   "cell_type": "markdown",
   "id": "48860630",
   "metadata": {},
   "source": [
    "# Stemming & Lemmatization"
   ]
  },
  {
   "cell_type": "code",
   "execution_count": 21,
   "id": "c6e46e48",
   "metadata": {},
   "outputs": [],
   "source": [
    "#Import the required modules\n",
    "from nltk.stem import PorterStemmer\n",
    "from nltk.stem import WordNetLemmatizer"
   ]
  },
  {
   "cell_type": "code",
   "execution_count": 22,
   "id": "3594d208",
   "metadata": {},
   "outputs": [],
   "source": [
    "#Creating the Stemmer and Lemmatizer\n",
    "word_stemmer = PorterStemmer()\n",
    "lemmatizer = WordNetLemmatizer()"
   ]
  },
  {
   "cell_type": "code",
   "execution_count": 23,
   "id": "5e48b9af",
   "metadata": {},
   "outputs": [
    {
     "name": "stdout",
     "output_type": "stream",
     "text": [
      "writing => write\n",
      "believes => believ\n"
     ]
    }
   ],
   "source": [
    "# Printing the results of stemming \n",
    "print(\"writing =>\", word_stemmer.stem('writing'))\n",
    "print(\"believes =>\", word_stemmer.stem('believes'))"
   ]
  },
  {
   "cell_type": "code",
   "execution_count": 24,
   "id": "b8f43163",
   "metadata": {},
   "outputs": [
    {
     "name": "stdout",
     "output_type": "stream",
     "text": [
      "writing =  writing \n",
      "believes =>  believes \n"
     ]
    }
   ],
   "source": [
    "# Printing the results using lemmatization\n",
    "print(\"writing =\",lemmatizer.lemmatize(' writing '))\n",
    "print(\"believes =>\",lemmatizer.lemmatize(' believes '))"
   ]
  },
  {
   "cell_type": "markdown",
   "id": "0e952a60",
   "metadata": {},
   "source": [
    "# Removal of repeating characters"
   ]
  },
  {
   "cell_type": "code",
   "execution_count": 25,
   "id": "3a2e96a2",
   "metadata": {},
   "outputs": [],
   "source": [
    "import re\n",
    "from nltk.corpus import wordnet\n",
    "\n",
    "class Rep_word_removal(object):\n",
    "    def __init__(self):\n",
    "        self.repeat_regexp = re.compile(r'(\\w*)(\\w)\\2(\\w*)')\n",
    "        self.repl = r'\\1\\2\\3'\n",
    "    def replace(self, word):\n",
    "        if wordnet.synsets(word):\n",
    "            return word\n",
    "        repl_word = self.repeat_regexp.sub(self.repl, word)\n",
    "        if repl_word != word:\n",
    "            return self.replace(repl_word)\n",
    "        else:\n",
    "            return repl_word"
   ]
  },
  {
   "cell_type": "code",
   "execution_count": 26,
   "id": "cb331879",
   "metadata": {},
   "outputs": [
    {
     "data": {
      "text/plain": [
       "'Hi'"
      ]
     },
     "execution_count": 26,
     "metadata": {},
     "output_type": "execute_result"
    }
   ],
   "source": [
    "rep_word = Rep_word_removal()\n",
    "rep_word.replace (\"Hiiiiiiiiiiiiiiiiiiiii\")"
   ]
  },
  {
   "cell_type": "code",
   "execution_count": 27,
   "id": "7eeb1b72",
   "metadata": {},
   "outputs": [
    {
     "data": {
      "text/plain": [
       "'Hello'"
      ]
     },
     "execution_count": 27,
     "metadata": {},
     "output_type": "execute_result"
    }
   ],
   "source": [
    "rep_word.replace(\"Hellooooooooooooooo\")"
   ]
  },
  {
   "cell_type": "markdown",
   "id": "f3b09d28",
   "metadata": {},
   "source": [
    "# Display a parse tree & Find the ambiguity of the sentence using parse tree."
   ]
  },
  {
   "cell_type": "code",
   "execution_count": 32,
   "id": "32910e29",
   "metadata": {},
   "outputs": [],
   "source": [
    "import nltk\n",
    "sentence = [\n",
    "   (\"a\", \"DT\"),\n",
    "   (\"clever\", \"JJ\"),\n",
    "   (\"fox\",\"NN\"),\n",
    "   (\"was\",\"VBP\"),\n",
    "   (\"jumping\",\"VBP\"),\n",
    "   (\"over\",\"IN\"),\n",
    "   (\"the\",\"DT\"),\n",
    "   (\"wall\",\"NN\")\n",
    "]\n",
    "grammar = \"NP:{<DT>?<JJ>*<NN>}\" \n",
    "Reg_parser = nltk.RegexpParser(grammar)\n",
    "Reg_parser.parse(sentence)\n",
    "Output = Reg_parser.parse(sentence)\n",
    "Output.draw()"
   ]
  }
 ],
 "metadata": {
  "kernelspec": {
   "display_name": "Python 3",
   "language": "python",
   "name": "python3"
  },
  "language_info": {
   "codemirror_mode": {
    "name": "ipython",
    "version": 3
   },
   "file_extension": ".py",
   "mimetype": "text/x-python",
   "name": "python",
   "nbconvert_exporter": "python",
   "pygments_lexer": "ipython3",
   "version": "3.8.8"
  }
 },
 "nbformat": 4,
 "nbformat_minor": 5
}
