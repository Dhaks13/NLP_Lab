{
 "cells": [
  {
   "cell_type": "markdown",
   "id": "bb95d91f",
   "metadata": {},
   "source": [
    "# Ex -1 \n",
    "Perform the following task using NLTK: Tokenize and tag some text, identify named entities,\n",
    "display a parse tree, and find the ambiguity of the sentence using parse tree."
   ]
  },
  {
   "cell_type": "markdown",
   "id": "97a6df93",
   "metadata": {},
   "source": [
    "# Tokenize the sentence using PunktSentenceTokenizer"
   ]
  },
  {
   "cell_type": "code",
   "execution_count": 1,
   "id": "7563ef1f",
   "metadata": {},
   "outputs": [],
   "source": [
    "#Importing the required modules\n",
    "import nltk\n",
    "from nltk.tokenize import PunktSentenceTokenizer\n",
    "from nltk.corpus import webtext"
   ]
  },
  {
   "cell_type": "code",
   "execution_count": 2,
   "id": "d1bd3ba8",
   "metadata": {
    "scrolled": false
   },
   "outputs": [],
   "source": [
    "#Create a String variable to tokenize\n",
    "raw_text = \"\"\"Hi! How are you?\n",
    "This is my first nlp lab\n",
    "\"\"\""
   ]
  },
  {
   "cell_type": "code",
   "execution_count": 3,
   "id": "5d3ccde1",
   "metadata": {},
   "outputs": [],
   "source": [
    "#Tokenizing the raw text\n",
    "tokens = PunktSentenceTokenizer(raw_text)\n",
    "tokens = tokens.tokenize(raw_text)"
   ]
  },
  {
   "cell_type": "code",
   "execution_count": 4,
   "id": "b6dbfdf1",
   "metadata": {},
   "outputs": [
    {
     "data": {
      "text/plain": [
       "['Hi!', 'How are you?', 'This is my first nlp lab']"
      ]
     },
     "execution_count": 4,
     "metadata": {},
     "output_type": "execute_result"
    }
   ],
   "source": [
    "#Printing the Tokens\n",
    "tokens"
   ]
  },
  {
   "cell_type": "markdown",
   "id": "da7daa72",
   "metadata": {},
   "source": [
    "# Removing Stopwords form the text"
   ]
  },
  {
   "cell_type": "code",
   "execution_count": 5,
   "id": "a361bd52",
   "metadata": {},
   "outputs": [],
   "source": [
    "#import required modules\n",
    "from nltk.corpus import stopwords\n",
    "from nltk.tokenize import WordPunctTokenizer"
   ]
  },
  {
   "cell_type": "code",
   "execution_count": 6,
   "id": "1670d994",
   "metadata": {},
   "outputs": [
    {
     "data": {
      "text/plain": [
       "{'a',\n",
       " 'about',\n",
       " 'above',\n",
       " 'after',\n",
       " 'again',\n",
       " 'against',\n",
       " 'ain',\n",
       " 'all',\n",
       " 'am',\n",
       " 'an',\n",
       " 'and',\n",
       " 'any',\n",
       " 'are',\n",
       " 'aren',\n",
       " \"aren't\",\n",
       " 'as',\n",
       " 'at',\n",
       " 'be',\n",
       " 'because',\n",
       " 'been',\n",
       " 'before',\n",
       " 'being',\n",
       " 'below',\n",
       " 'between',\n",
       " 'both',\n",
       " 'but',\n",
       " 'by',\n",
       " 'can',\n",
       " 'couldn',\n",
       " \"couldn't\",\n",
       " 'd',\n",
       " 'did',\n",
       " 'didn',\n",
       " \"didn't\",\n",
       " 'do',\n",
       " 'does',\n",
       " 'doesn',\n",
       " \"doesn't\",\n",
       " 'doing',\n",
       " 'don',\n",
       " \"don't\",\n",
       " 'down',\n",
       " 'during',\n",
       " 'each',\n",
       " 'few',\n",
       " 'for',\n",
       " 'from',\n",
       " 'further',\n",
       " 'had',\n",
       " 'hadn',\n",
       " \"hadn't\",\n",
       " 'has',\n",
       " 'hasn',\n",
       " \"hasn't\",\n",
       " 'have',\n",
       " 'haven',\n",
       " \"haven't\",\n",
       " 'having',\n",
       " 'he',\n",
       " 'her',\n",
       " 'here',\n",
       " 'hers',\n",
       " 'herself',\n",
       " 'him',\n",
       " 'himself',\n",
       " 'his',\n",
       " 'how',\n",
       " 'i',\n",
       " 'if',\n",
       " 'in',\n",
       " 'into',\n",
       " 'is',\n",
       " 'isn',\n",
       " \"isn't\",\n",
       " 'it',\n",
       " \"it's\",\n",
       " 'its',\n",
       " 'itself',\n",
       " 'just',\n",
       " 'll',\n",
       " 'm',\n",
       " 'ma',\n",
       " 'me',\n",
       " 'mightn',\n",
       " \"mightn't\",\n",
       " 'more',\n",
       " 'most',\n",
       " 'mustn',\n",
       " \"mustn't\",\n",
       " 'my',\n",
       " 'myself',\n",
       " 'needn',\n",
       " \"needn't\",\n",
       " 'no',\n",
       " 'nor',\n",
       " 'not',\n",
       " 'now',\n",
       " 'o',\n",
       " 'of',\n",
       " 'off',\n",
       " 'on',\n",
       " 'once',\n",
       " 'only',\n",
       " 'or',\n",
       " 'other',\n",
       " 'our',\n",
       " 'ours',\n",
       " 'ourselves',\n",
       " 'out',\n",
       " 'over',\n",
       " 'own',\n",
       " 're',\n",
       " 's',\n",
       " 'same',\n",
       " 'shan',\n",
       " \"shan't\",\n",
       " 'she',\n",
       " \"she's\",\n",
       " 'should',\n",
       " \"should've\",\n",
       " 'shouldn',\n",
       " \"shouldn't\",\n",
       " 'so',\n",
       " 'some',\n",
       " 'such',\n",
       " 't',\n",
       " 'than',\n",
       " 'that',\n",
       " \"that'll\",\n",
       " 'the',\n",
       " 'their',\n",
       " 'theirs',\n",
       " 'them',\n",
       " 'themselves',\n",
       " 'then',\n",
       " 'there',\n",
       " 'these',\n",
       " 'they',\n",
       " 'this',\n",
       " 'those',\n",
       " 'through',\n",
       " 'to',\n",
       " 'too',\n",
       " 'under',\n",
       " 'until',\n",
       " 'up',\n",
       " 've',\n",
       " 'very',\n",
       " 'was',\n",
       " 'wasn',\n",
       " \"wasn't\",\n",
       " 'we',\n",
       " 'were',\n",
       " 'weren',\n",
       " \"weren't\",\n",
       " 'what',\n",
       " 'when',\n",
       " 'where',\n",
       " 'which',\n",
       " 'while',\n",
       " 'who',\n",
       " 'whom',\n",
       " 'why',\n",
       " 'will',\n",
       " 'with',\n",
       " 'won',\n",
       " \"won't\",\n",
       " 'wouldn',\n",
       " \"wouldn't\",\n",
       " 'y',\n",
       " 'you',\n",
       " \"you'd\",\n",
       " \"you'll\",\n",
       " \"you're\",\n",
       " \"you've\",\n",
       " 'your',\n",
       " 'yours',\n",
       " 'yourself',\n",
       " 'yourselves'}"
      ]
     },
     "execution_count": 6,
     "metadata": {},
     "output_type": "execute_result"
    }
   ],
   "source": [
    "#Extracting the English stopwords form the nltk corpus\n",
    "en_stopwords = set(stopwords.words('english'))\n",
    "en_stopwords"
   ]
  },
  {
   "cell_type": "code",
   "execution_count": 7,
   "id": "d5b9de34",
   "metadata": {},
   "outputs": [
    {
     "data": {
      "text/plain": [
       "['Hi',\n",
       " '!',\n",
       " 'How',\n",
       " 'are',\n",
       " 'you',\n",
       " '?',\n",
       " 'This',\n",
       " 'is',\n",
       " 'my',\n",
       " 'first',\n",
       " 'nlp',\n",
       " 'lab']"
      ]
     },
     "execution_count": 7,
     "metadata": {},
     "output_type": "execute_result"
    }
   ],
   "source": [
    "#Tokenizing the raw text to words using WordPunctTokenizer\n",
    "tokenizer = WordPunctTokenizer()\n",
    "words = tokenizer.tokenize(raw_text)\n",
    "words"
   ]
  },
  {
   "cell_type": "code",
   "execution_count": 8,
   "id": "c526bcf2",
   "metadata": {},
   "outputs": [
    {
     "data": {
      "text/plain": [
       "['Hi', '!', 'How', '?', 'This', 'first', 'nlp', 'lab']"
      ]
     },
     "execution_count": 8,
     "metadata": {},
     "output_type": "execute_result"
    }
   ],
   "source": [
    "#Removing the stopwords from the \n",
    "[word for word in words if word not in en_stopwords]"
   ]
  },
  {
   "cell_type": "markdown",
   "id": "48860630",
   "metadata": {},
   "source": [
    "# Stemming & Lemmatization"
   ]
  },
  {
   "cell_type": "code",
   "execution_count": 9,
   "id": "c6e46e48",
   "metadata": {},
   "outputs": [],
   "source": [
    "#Import the required modules\n",
    "from nltk.stem import PorterStemmer\n",
    "from nltk.stem import WordNetLemmatizer"
   ]
  },
  {
   "cell_type": "code",
   "execution_count": 10,
   "id": "3594d208",
   "metadata": {},
   "outputs": [],
   "source": [
    "#Creating the Stemmer and Lemmatizer\n",
    "word_stemmer = PorterStemmer()\n",
    "lemmatizer = WordNetLemmatizer()"
   ]
  },
  {
   "cell_type": "code",
   "execution_count": 11,
   "id": "5e48b9af",
   "metadata": {},
   "outputs": [
    {
     "name": "stdout",
     "output_type": "stream",
     "text": [
      "writing => write\n",
      "believes => believ\n"
     ]
    }
   ],
   "source": [
    "# Printing the results of stemming \n",
    "print(\"writing =>\", word_stemmer.stem('writing'))\n",
    "print(\"believes =>\", word_stemmer.stem('believes'))"
   ]
  },
  {
   "cell_type": "code",
   "execution_count": 12,
   "id": "b8f43163",
   "metadata": {},
   "outputs": [
    {
     "name": "stdout",
     "output_type": "stream",
     "text": [
      "writing =  writing \n",
      "believes =>  believes \n"
     ]
    }
   ],
   "source": [
    "# Printing the results using lemmatization\n",
    "print(\"writing =\",lemmatizer.lemmatize(' writing '))\n",
    "print(\"believes =>\",lemmatizer.lemmatize(' believes '))"
   ]
  },
  {
   "cell_type": "markdown",
   "id": "66f4699a",
   "metadata": {},
   "source": [
    "# Tagging tokens with its parts of speech: using nltk.pos_tag"
   ]
  },
  {
   "cell_type": "code",
   "execution_count": 19,
   "id": "d72c92a1",
   "metadata": {},
   "outputs": [],
   "source": [
    "#importing modules\n",
    "import nltk\n",
    "from nltk import sent_tokenize, word_tokenize, pos_tag, ne_chunk\n",
    "from nltk.corpus import stopwords\n",
    "from nltk.stem import PorterStemmer, WordNetLemmatizer\n",
    "from nltk.corpus import gutenberg\n",
    "from nltk.tree import Tree\n",
    "from nltk.parse import RecursiveDescentParser\n",
    "import string\n",
    "\n",
    "\n",
    "sentences = gutenberg.raw('austen-emma.txt')[:999]\n",
    "sent_tokens = sent_tokenize(sentences)\n",
    "\n",
    "word_tokens = []\n",
    "for sentence in sent_tokens :\n",
    "    translator = str.maketrans('', '', string.punctuation)\n",
    "    sentence = sentence.translate(translator)\n",
    "    word_tokens.append(word_tokenize(sentence))"
   ]
  },
  {
   "cell_type": "code",
   "execution_count": 20,
   "id": "8a966f12",
   "metadata": {},
   "outputs": [
    {
     "name": "stdout",
     "output_type": "stream",
     "text": [
      "1. [('Emma', 'NN'), ('by', 'IN'), ('Jane', 'NNP'), ('Austen', 'NNP'), ('1816', 'CD'), ('VOLUME', 'NNP'), ('I', 'PRP'), ('CHAPTER', 'VBP'), ('I', 'PRP'), ('Emma', 'NNP'), ('Woodhouse', 'NNP'), ('handsome', 'VBD'), ('clever', 'NN'), ('and', 'CC'), ('rich', 'JJ'), ('with', 'IN'), ('a', 'DT'), ('comfortable', 'JJ'), ('home', 'NN'), ('and', 'CC'), ('happy', 'JJ'), ('disposition', 'NN'), ('seemed', 'VBD'), ('to', 'TO'), ('unite', 'VB'), ('some', 'DT'), ('of', 'IN'), ('the', 'DT'), ('best', 'JJS'), ('blessings', 'NNS'), ('of', 'IN'), ('existence', 'NN'), ('and', 'CC'), ('had', 'VBD'), ('lived', 'VBN'), ('nearly', 'RB'), ('twentyone', 'CD'), ('years', 'NNS'), ('in', 'IN'), ('the', 'DT'), ('world', 'NN'), ('with', 'IN'), ('very', 'RB'), ('little', 'JJ'), ('to', 'TO'), ('distress', 'VB'), ('or', 'CC'), ('vex', 'VB'), ('her', 'PRP$')]\n",
      "\n",
      "2. [('She', 'PRP'), ('was', 'VBD'), ('the', 'DT'), ('youngest', 'JJS'), ('of', 'IN'), ('the', 'DT'), ('two', 'CD'), ('daughters', 'NNS'), ('of', 'IN'), ('a', 'DT'), ('most', 'RBS'), ('affectionate', 'JJ'), ('indulgent', 'NN'), ('father', 'NN'), ('and', 'CC'), ('had', 'VBD'), ('in', 'IN'), ('consequence', 'NN'), ('of', 'IN'), ('her', 'PRP$'), ('sisters', 'NNS'), ('marriage', 'VBP'), ('been', 'VBN'), ('mistress', 'NN'), ('of', 'IN'), ('his', 'PRP$'), ('house', 'NN'), ('from', 'IN'), ('a', 'DT'), ('very', 'RB'), ('early', 'JJ'), ('period', 'NN')]\n",
      "\n",
      "3. [('Her', 'PRP$'), ('mother', 'NN'), ('had', 'VBD'), ('died', 'VBN'), ('too', 'RB'), ('long', 'RB'), ('ago', 'RB'), ('for', 'IN'), ('her', 'PRP$'), ('to', 'TO'), ('have', 'VB'), ('more', 'JJR'), ('than', 'IN'), ('an', 'DT'), ('indistinct', 'JJ'), ('remembrance', 'NN'), ('of', 'IN'), ('her', 'PRP$'), ('caresses', 'NNS'), ('and', 'CC'), ('her', 'PRP$'), ('place', 'NN'), ('had', 'VBD'), ('been', 'VBN'), ('supplied', 'VBN'), ('by', 'IN'), ('an', 'DT'), ('excellent', 'JJ'), ('woman', 'NN'), ('as', 'IN'), ('governess', 'NN'), ('who', 'WP'), ('had', 'VBD'), ('fallen', 'VBN'), ('little', 'JJ'), ('short', 'JJ'), ('of', 'IN'), ('a', 'DT'), ('mother', 'NN'), ('in', 'IN'), ('affection', 'NN')]\n",
      "\n",
      "4. [('Sixteen', 'JJ'), ('years', 'NNS'), ('had', 'VBD'), ('Miss', 'NNP'), ('Taylor', 'NNP'), ('been', 'VBN'), ('in', 'IN'), ('Mr', 'NNP'), ('Woodhouses', 'NNP'), ('family', 'NN'), ('less', 'CC'), ('as', 'IN'), ('a', 'DT'), ('governess', 'NN'), ('than', 'IN'), ('a', 'DT'), ('friend', 'JJ'), ('very', 'RB'), ('fond', 'NN'), ('of', 'IN'), ('both', 'DT'), ('daughters', 'NNS'), ('but', 'CC'), ('particularly', 'RB'), ('of', 'IN'), ('Emma', 'NNP')]\n",
      "\n",
      "5. [('Between', 'IN'), ('them', 'PRP'), ('it', 'PRP'), ('was', 'VBD'), ('more', 'RBR'), ('the', 'DT'), ('intimacy', 'NN'), ('of', 'IN'), ('sisters', 'NNS')]\n",
      "\n",
      "6. [('Even', 'RB'), ('before', 'IN'), ('Miss', 'NNP'), ('Taylor', 'NNP'), ('had', 'VBD'), ('ceased', 'VBN'), ('to', 'TO'), ('hold', 'VB'), ('the', 'DT'), ('nominal', 'JJ'), ('office', 'NN'), ('of', 'IN'), ('governess', 'NN'), ('the', 'DT'), ('mildness', 'NN')]\n",
      "\n"
     ]
    }
   ],
   "source": [
    "tags = []\n",
    "for i, tokens in enumerate(word_tokens) :\n",
    "    tags += [pos_tag(tokens)] \n",
    "    print(f\"{i+1}. {tags[-1]}\\n\")#Named entities recogonization : using nltk.ne_chunk"
   ]
  },
  {
   "cell_type": "code",
   "execution_count": 22,
   "id": "a40703ae",
   "metadata": {},
   "outputs": [
    {
     "name": "stderr",
     "output_type": "stream",
     "text": [
      "[nltk_data] Downloading package maxent_ne_chunker to\n",
      "[nltk_data]     C:\\Users\\admin\\AppData\\Roaming\\nltk_data...\n",
      "[nltk_data]   Unzipping chunkers\\maxent_ne_chunker.zip.\n"
     ]
    },
    {
     "data": {
      "text/plain": [
       "True"
      ]
     },
     "execution_count": 22,
     "metadata": {},
     "output_type": "execute_result"
    }
   ],
   "source": [
    "nltk.download('maxent_ne_chunker')"
   ]
  },
  {
   "cell_type": "code",
   "execution_count": 25,
   "id": "2167c7e9",
   "metadata": {},
   "outputs": [
    {
     "name": "stderr",
     "output_type": "stream",
     "text": [
      "[nltk_data] Downloading package words to\n",
      "[nltk_data]     C:\\Users\\admin\\AppData\\Roaming\\nltk_data...\n",
      "[nltk_data]   Unzipping corpora\\words.zip.\n"
     ]
    },
    {
     "data": {
      "text/plain": [
       "True"
      ]
     },
     "execution_count": 25,
     "metadata": {},
     "output_type": "execute_result"
    }
   ],
   "source": [
    "nltk.download('words')"
   ]
  },
  {
   "cell_type": "code",
   "execution_count": 26,
   "id": "0af213bf",
   "metadata": {},
   "outputs": [
    {
     "name": "stdout",
     "output_type": "stream",
     "text": [
      "ENTITY : Emma, LABEL : GPE\n",
      "ENTITY : Jane Austen, LABEL : PERSON\n",
      "ENTITY : Emma Woodhouse, LABEL : PERSON\n",
      "ENTITY : Miss Taylor, LABEL : PERSON\n",
      "ENTITY : Emma, LABEL : GPE\n",
      "ENTITY : Miss Taylor, LABEL : PERSON\n"
     ]
    }
   ],
   "source": [
    "ne = []\n",
    "for i, tag in enumerate(tags) :\n",
    "    ne += [ne_chunk(tag)] \n",
    "    for subtree in ne[-1] :\n",
    "        if isinstance(subtree, Tree) :\n",
    "            words = [word for word,tag in subtree.leaves()]\n",
    "            label = subtree.label()\n",
    "            print(f\"ENTITY : {' '.join(words)}, LABEL : {label}\")"
   ]
  },
  {
   "cell_type": "markdown",
   "id": "f3b09d28",
   "metadata": {},
   "source": [
    "# Display a parse tree & Find the ambiguity of the sentence using parse tree."
   ]
  },
  {
   "cell_type": "code",
   "execution_count": 27,
   "id": "32910e29",
   "metadata": {},
   "outputs": [],
   "source": [
    "import nltk\n",
    "sentence = [\n",
    "   (\"a\", \"DT\"),\n",
    "   (\"clever\", \"JJ\"),\n",
    "   (\"fox\",\"NN\"),\n",
    "   (\"was\",\"VBP\"),\n",
    "   (\"jumping\",\"VBP\"),\n",
    "   (\"over\",\"IN\"),\n",
    "   (\"the\",\"DT\"),\n",
    "   (\"wall\",\"NN\")\n",
    "]\n",
    "grammar = \"NP:{<DT>?<JJ>*<NN>}\" \n",
    "Reg_parser = nltk.RegexpParser(grammar)\n",
    "Reg_parser.parse(sentence)\n",
    "Output = Reg_parser.parse(sentence)\n",
    "Output.draw()"
   ]
  },
  {
   "cell_type": "markdown",
   "id": "0e952a60",
   "metadata": {},
   "source": [
    "# Removal of repeating characters"
   ]
  },
  {
   "cell_type": "code",
   "execution_count": 28,
   "id": "3a2e96a2",
   "metadata": {},
   "outputs": [],
   "source": [
    "import re\n",
    "from nltk.corpus import wordnet\n",
    "\n",
    "class Rep_word_removal(object):\n",
    "    def __init__(self):\n",
    "        self.repeat_regexp = re.compile(r'(\\w*)(\\w)\\2(\\w*)')\n",
    "        self.repl = r'\\1\\2\\3'\n",
    "    def replace(self, word):\n",
    "        if wordnet.synsets(word):\n",
    "            return word\n",
    "        repl_word = self.repeat_regexp.sub(self.repl, word)\n",
    "        if repl_word != word:\n",
    "            return self.replace(repl_word)\n",
    "        else:\n",
    "            return repl_word"
   ]
  },
  {
   "cell_type": "code",
   "execution_count": 29,
   "id": "cb331879",
   "metadata": {},
   "outputs": [
    {
     "data": {
      "text/plain": [
       "'Hi'"
      ]
     },
     "execution_count": 29,
     "metadata": {},
     "output_type": "execute_result"
    }
   ],
   "source": [
    "rep_word = Rep_word_removal()\n",
    "rep_word.replace (\"Hiiiiiiiiiiiiiiiiiiiii\")"
   ]
  },
  {
   "cell_type": "code",
   "execution_count": 30,
   "id": "7eeb1b72",
   "metadata": {},
   "outputs": [
    {
     "data": {
      "text/plain": [
       "'Hello'"
      ]
     },
     "execution_count": 30,
     "metadata": {},
     "output_type": "execute_result"
    }
   ],
   "source": [
    "rep_word.replace(\"Hellooooooooooooooo\")"
   ]
  },
  {
   "cell_type": "markdown",
   "id": "e3d85d8e",
   "metadata": {},
   "source": [
    "# Using WordNet"
   ]
  },
  {
   "cell_type": "code",
   "execution_count": 31,
   "id": "b8aba620",
   "metadata": {},
   "outputs": [],
   "source": [
    "#Importing the required module\n",
    "from nltk.corpus import wordnet as wn"
   ]
  },
  {
   "cell_type": "code",
   "execution_count": 32,
   "id": "44c8eb79",
   "metadata": {},
   "outputs": [
    {
     "data": {
      "text/plain": [
       "'dog.n.01'"
      ]
     },
     "execution_count": 32,
     "metadata": {},
     "output_type": "execute_result"
    }
   ],
   "source": [
    "#Creating Synset instances\n",
    "syn = wn.synsets('dog')[0]\n",
    "syn.name()"
   ]
  },
  {
   "cell_type": "code",
   "execution_count": 33,
   "id": "a685d511",
   "metadata": {},
   "outputs": [
    {
     "data": {
      "text/plain": [
       "'a member of the genus Canis (probably descended from the common wolf) that has been domesticated by man since prehistoric times; occurs in many breeds'"
      ]
     },
     "execution_count": 33,
     "metadata": {},
     "output_type": "execute_result"
    }
   ],
   "source": [
    "#define the word\n",
    "syn.definition()"
   ]
  },
  {
   "cell_type": "code",
   "execution_count": 34,
   "id": "b0a6badb",
   "metadata": {},
   "outputs": [
    {
     "data": {
      "text/plain": [
       "['the dog barked all night']"
      ]
     },
     "execution_count": 34,
     "metadata": {},
     "output_type": "execute_result"
    }
   ],
   "source": [
    "#Example sentance for the word\n",
    "syn.examples()"
   ]
  },
  {
   "cell_type": "code",
   "execution_count": 35,
   "id": "afe39747",
   "metadata": {},
   "outputs": [
    {
     "data": {
      "text/plain": [
       "[Synset('canine.n.02'), Synset('domestic_animal.n.01')]"
      ]
     },
     "execution_count": 35,
     "metadata": {},
     "output_type": "execute_result"
    }
   ],
   "source": [
    "#Getting Synonyms for words\n",
    "syn.hypernyms()"
   ]
  },
  {
   "cell_type": "code",
   "execution_count": 36,
   "id": "ce7aad9f",
   "metadata": {},
   "outputs": [
    {
     "data": {
      "text/plain": [
       "[Synset('bitch.n.04'),\n",
       " Synset('dog.n.01'),\n",
       " Synset('fox.n.01'),\n",
       " Synset('hyena.n.01'),\n",
       " Synset('jackal.n.01'),\n",
       " Synset('wild_dog.n.01'),\n",
       " Synset('wolf.n.01')]"
      ]
     },
     "execution_count": 36,
     "metadata": {},
     "output_type": "execute_result"
    }
   ],
   "source": [
    "#Syn of Syn\n",
    "syn.hypernyms()[0].hyponyms()"
   ]
  },
  {
   "cell_type": "code",
   "execution_count": 37,
   "id": "901e2319",
   "metadata": {},
   "outputs": [
    {
     "data": {
      "text/plain": [
       "[Synset('dog.n.01'),\n",
       " Synset('domestic_cat.n.01'),\n",
       " Synset('feeder.n.01'),\n",
       " Synset('head.n.02'),\n",
       " Synset('stocker.n.01'),\n",
       " Synset('stray.n.01')]"
      ]
     },
     "execution_count": 37,
     "metadata": {},
     "output_type": "execute_result"
    }
   ],
   "source": [
    "syn.hypernyms()[1].hyponyms()"
   ]
  },
  {
   "cell_type": "code",
   "execution_count": 38,
   "id": "32db36d3",
   "metadata": {},
   "outputs": [
    {
     "data": {
      "text/plain": [
       "[Synset('entity.n.01')]"
      ]
     },
     "execution_count": 38,
     "metadata": {},
     "output_type": "execute_result"
    }
   ],
   "source": [
    "# Root word of the syn\n",
    "syn.root_hypernyms()"
   ]
  },
  {
   "cell_type": "code",
   "execution_count": 39,
   "id": "b661964f",
   "metadata": {},
   "outputs": [
    {
     "data": {
      "text/plain": [
       "3"
      ]
     },
     "execution_count": 39,
     "metadata": {},
     "output_type": "execute_result"
    }
   ],
   "source": [
    "#finding lemmas\n",
    "lemmas = syn.lemmas()\n",
    "len(lemmas)"
   ]
  },
  {
   "cell_type": "code",
   "execution_count": 40,
   "id": "4e81ae8a",
   "metadata": {},
   "outputs": [
    {
     "name": "stdout",
     "output_type": "stream",
     "text": [
      "dog\n",
      "domestic_dog\n",
      "Canis_familiaris\n"
     ]
    }
   ],
   "source": [
    "print(lemmas[0].name())\n",
    "print(lemmas[1].name())\n",
    "print(lemmas[2].name())"
   ]
  },
  {
   "cell_type": "code",
   "execution_count": 41,
   "id": "f5d6a148",
   "metadata": {},
   "outputs": [
    {
     "data": {
      "text/plain": [
       "'good'"
      ]
     },
     "execution_count": 41,
     "metadata": {},
     "output_type": "execute_result"
    }
   ],
   "source": [
    "#Finding Antonym for a word\n",
    "syn = wn.synset('bad.n.01')\n",
    "antonym1 = syn.lemmas()[0].antonyms()[0]\n",
    "antonym1.name()"
   ]
  },
  {
   "cell_type": "code",
   "execution_count": 42,
   "id": "1fdc91ca",
   "metadata": {},
   "outputs": [
    {
     "data": {
      "text/plain": [
       "'that which is pleasing or valuable or useful'"
      ]
     },
     "execution_count": 42,
     "metadata": {},
     "output_type": "execute_result"
    }
   ],
   "source": [
    "#Define the antonym\n",
    "antonym1.synset().definition()"
   ]
  },
  {
   "cell_type": "markdown",
   "id": "93fbcdc3",
   "metadata": {},
   "source": [
    "# The End"
   ]
  }
 ],
 "metadata": {
  "kernelspec": {
   "display_name": "Python 3",
   "language": "python",
   "name": "python3"
  },
  "language_info": {
   "codemirror_mode": {
    "name": "ipython",
    "version": 3
   },
   "file_extension": ".py",
   "mimetype": "text/x-python",
   "name": "python",
   "nbconvert_exporter": "python",
   "pygments_lexer": "ipython3",
   "version": "3.8.8"
  }
 },
 "nbformat": 4,
 "nbformat_minor": 5
}
